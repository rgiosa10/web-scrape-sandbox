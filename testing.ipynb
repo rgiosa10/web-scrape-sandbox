{
 "cells": [
  {
   "cell_type": "code",
   "execution_count": 122,
   "metadata": {},
   "outputs": [
    {
     "name": "stdout",
     "output_type": "stream",
     "text": [
      "['wikitable', 'sortable']\n",
      "['nowraplinks', 'hlist', 'mw-collapsible', 'autocollapse', 'navbox-inner']\n",
      "['nowraplinks', 'mw-collapsible', 'expanded', 'navbox-subgroup']\n",
      "['nowraplinks', 'navbox-subgroup']\n",
      "['nowraplinks', 'navbox-subgroup']\n",
      "['nowraplinks', 'mw-collapsible', 'expanded', 'navbox-subgroup']\n",
      "['nowraplinks', 'navbox-subgroup']\n"
     ]
    }
   ],
   "source": [
    "import requests\n",
    "from bs4 import BeautifulSoup\n",
    "import re\n",
    "import pandas as pd\n",
    "import json\n",
    "from datetime import datetime\n",
    "import dateutil\n",
    "import numpy as np\n",
    "\n",
    "\n",
    "\n",
    "countries = [\n",
    "    {\n",
    "        \"Type\": \"Languages\",\n",
    "        \"Wiki_URL\": \"https://en.wikipedia.org/wiki/List_of_official_languages_by_country_and_territory\"\n",
    "        }\n",
    "]\n",
    "\n",
    "data = requests.get(countries[0]['Wiki_URL']).text\n",
    "soup = BeautifulSoup(data,'html.parser')\n",
    "\n",
    "# find tables on the wiki page\n",
    "for table in soup.find_all('table'):\n",
    "    print(table.get('class'))\n",
    "\n",
    "tables = soup.find_all('table')\n",
    "table = soup.find('table', class_='wikitable sortable')\n",
    "\n",
    "\n",
    "df = pd.DataFrame(columns=['Country/Region', 'Official Language', 'Regional Language', 'Minority language', 'National language', 'Widely spoken'])\n",
    "\n",
    "for row in table.tbody.find_all('tr'):\n",
    "    # Find all data for each column\n",
    "    columns = row.find_all('td')\n",
    "    \n",
    "    if(columns != []):\n",
    "        country = columns[0].text.strip()\n",
    "        off_lang = columns[1].text.strip()\n",
    "        reg_lang = columns[2].text.strip()\n",
    "        min_lang = columns[3].text.strip()\n",
    "        nat_lang = columns[4].text.strip()\n",
    "        ws_lang = columns[-1].text.strip()\n",
    "\n",
    "        df = df.append({'Country/Region':country, 'Official Language':off_lang, 'Regional Language': reg_lang, 'Minority language':min_lang, 'National language':nat_lang, 'Widely spoken':ws_lang}, ignore_index=True)\n",
    "\n",
    "\n",
    "\n",
    "old_names = ['Country/Region', 'Official Language', 'Regional Language', 'Minority language', 'National language', 'Widely spoken']\n",
    "new_names = ['country', 'official_lang', 'regional_lang', 'minority_lang', 'national_lang', 'widely_spoken_lang']\n",
    "\n",
    "rename_dict = {name[0]:name[1] for name in zip(old_names,new_names)}\n",
    "\n",
    "df = df.rename(columns=rename_dict)\n",
    "\n",
    "def country_cleaning(country_name):\n",
    "    return re.sub(r'([^a-zA-Z])', '', country_name)\n",
    "\n",
    "df['country'] = df.country.map(country_cleaning)\n",
    "\n",
    "def lang_clean(langs):\n",
    "    langs_list_output = []\n",
    "    langs = re.sub(r'\\([^)]*\\)', '', langs)\n",
    "    langs = re.sub(r'\\[[^]]*\\]', '', langs)\n",
    "    langs_list = langs.split(\"\\n\")\n",
    "    for item in langs_list:\n",
    "        item = item.strip()\n",
    "        langs_list_output.append(str(item))\n",
    "    if '' in langs_list_output:\n",
    "        return np.nan\n",
    "    else:\n",
    "        return list(langs_list_output)\n",
    "\n",
    "lang_columns = ['official_lang', 'regional_lang', 'minority_lang', 'national_lang', 'widely_spoken_lang']\n",
    "\n",
    "for item in lang_columns:\n",
    "    df[item] = df[item].map(lang_clean)\n",
    "\n",
    "df.set_index('country', inplace=True)\n",
    "\n",
    "df.to_csv('wiki_country_lang.csv', header=True)\n"
   ]
  }
 ],
 "metadata": {
  "kernelspec": {
   "display_name": "Python 3.7.9 ('venv': venv)",
   "language": "python",
   "name": "python3"
  },
  "language_info": {
   "codemirror_mode": {
    "name": "ipython",
    "version": 3
   },
   "file_extension": ".py",
   "mimetype": "text/x-python",
   "name": "python",
   "nbconvert_exporter": "python",
   "pygments_lexer": "ipython3",
   "version": "3.7.9"
  },
  "orig_nbformat": 4,
  "vscode": {
   "interpreter": {
    "hash": "5ff1d721b602359f8fd88c4f83c30086a5983e2105611da60f2a0fcefcf110df"
   }
  }
 },
 "nbformat": 4,
 "nbformat_minor": 2
}
