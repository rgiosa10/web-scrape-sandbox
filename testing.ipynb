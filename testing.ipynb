{
 "cells": [
  {
   "cell_type": "code",
   "execution_count": null,
   "metadata": {},
   "outputs": [
    {
     "ename": "",
     "evalue": "",
     "output_type": "error",
     "traceback": [
      "\u001b[1;31mRunning cells with 'Python 3.9.6 64-bit' requires ipykernel package.\n",
      "\u001b[1;31mRun the following command to install 'ipykernel' into the Python environment. \n",
      "\u001b[1;31mCommand: '/usr/bin/python3 -m pip install ipykernel -U --user --force-reinstall'"
     ]
    }
   ],
   "source": [
    "import requests\n",
    "from bs4 import BeautifulSoup\n",
    "import re\n",
    "import pandas as pd\n",
    "import json\n",
    "from datetime import datetime\n",
    "import dateutil\n",
    "\n",
    "\n",
    "\n",
    "countries = [\n",
    "    {\n",
    "        \"Type\": \"Languages\",\n",
    "        \"Wiki_URL\": \"https://en.wikipedia.org/wiki/List_of_official_languages_by_country_and_territory\"\n",
    "        }\n",
    "]\n",
    "\n",
    "data = requests.get(countries['Wiki_URL']).text\n",
    "soup = BeautifulSoup(data,'html.parser')\n",
    "\n",
    "\n",
    "\n"
   ]
  }
 ],
 "metadata": {
  "kernelspec": {
   "display_name": "Python 3.7.9 ('venv': venv)",
   "language": "python",
   "name": "python3"
  },
  "language_info": {
   "name": "python",
   "version": "3.7.9"
  },
  "orig_nbformat": 4,
  "vscode": {
   "interpreter": {
    "hash": "5ff1d721b602359f8fd88c4f83c30086a5983e2105611da60f2a0fcefcf110df"
   }
  }
 },
 "nbformat": 4,
 "nbformat_minor": 2
}
